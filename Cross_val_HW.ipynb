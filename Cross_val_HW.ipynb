{
 "cells": [
  {
   "cell_type": "markdown",
   "metadata": {},
   "source": [
    "## Домашнее задание (Кросс-валидация)\n",
    "\n",
    "Для выполнения домашнего задания необходимо взять boston house-prices datase (sklearn.datasets.load_boston) и сделать тоже самое для задачи регрессии (попробовать разные алгоритмы, поподбирать параметры, вывести итоговое качество). "
   ]
  },
  {
   "cell_type": "code",
   "execution_count": 15,
   "metadata": {},
   "outputs": [],
   "source": [
    "import pandas as pd\n",
    "import numpy as np\n",
    "\n",
    "\n",
    "from sklearn.datasets import load_boston\n",
    "from sklearn.model_selection import train_test_split, cross_val_score, cross_val_predict, GridSearchCV\n",
    "\n",
    "from sklearn.linear_model import LinearRegression\n",
    "\n",
    "\n",
    "from sklearn import metrics\n",
    "from sklearn.metrics import mean_squared_error, explained_variance_score, mean_absolute_error\n",
    "\n",
    "\n",
    "import matplotlib.pyplot as plt\n",
    "%matplotlib inline\n",
    "\n",
    "\n",
    "from jupyterthemes import jtplot\n",
    "jtplot.style(figsize=(12.0, 8.0))\n",
    "\n",
    "\n",
    "import warnings\n",
    "warnings.simplefilter('ignore')"
   ]
  },
  {
   "cell_type": "markdown",
   "metadata": {},
   "source": [
    "### Реализация"
   ]
  },
  {
   "cell_type": "markdown",
   "metadata": {},
   "source": [
    "### Загрузим данные"
   ]
  },
  {
   "cell_type": "code",
   "execution_count": 2,
   "metadata": {},
   "outputs": [],
   "source": [
    "boston = load_boston()"
   ]
  },
  {
   "cell_type": "code",
   "execution_count": 3,
   "metadata": {},
   "outputs": [
    {
     "data": {
      "text/plain": [
       "dict_keys(['data', 'target', 'feature_names', 'DESCR'])"
      ]
     },
     "execution_count": 3,
     "metadata": {},
     "output_type": "execute_result"
    }
   ],
   "source": [
    "boston.keys()"
   ]
  },
  {
   "cell_type": "code",
   "execution_count": 4,
   "metadata": {},
   "outputs": [
    {
     "data": {
      "text/plain": [
       "array(['CRIM', 'ZN', 'INDUS', 'CHAS', 'NOX', 'RM', 'AGE', 'DIS', 'RAD',\n",
       "       'TAX', 'PTRATIO', 'B', 'LSTAT'], dtype='<U7')"
      ]
     },
     "execution_count": 4,
     "metadata": {},
     "output_type": "execute_result"
    }
   ],
   "source": [
    "boston.feature_names"
   ]
  },
  {
   "cell_type": "code",
   "execution_count": 5,
   "metadata": {},
   "outputs": [],
   "source": [
    "X = boston.data"
   ]
  },
  {
   "cell_type": "code",
   "execution_count": 6,
   "metadata": {},
   "outputs": [],
   "source": [
    "y = boston.target"
   ]
  },
  {
   "cell_type": "code",
   "execution_count": 7,
   "metadata": {},
   "outputs": [],
   "source": [
    "df = pd.DataFrame(X, columns = boston.feature_names)"
   ]
  },
  {
   "cell_type": "code",
   "execution_count": 9,
   "metadata": {},
   "outputs": [
    {
     "data": {
      "text/plain": [
       "True"
      ]
     },
     "execution_count": 9,
     "metadata": {},
     "output_type": "execute_result"
    }
   ],
   "source": [
    "df.shape[0] == len(X)"
   ]
  },
  {
   "cell_type": "markdown",
   "metadata": {},
   "source": [
    "### Кросс - валидация"
   ]
  },
  {
   "cell_type": "markdown",
   "metadata": {},
   "source": [
    "- построим модель (линейная регрессия)\n",
    "- выполним кросс-валидацию (несколько эксперементов CV)\n",
    "- посмотрим разные алгоритмы (LinearRegression, RandomForestRegressor)\n",
    "- посмотрим важность признаков\n",
    "- подберем оптимальные параметры"
   ]
  },
  {
   "cell_type": "markdown",
   "metadata": {},
   "source": [
    "### LinearRegression ......."
   ]
  },
  {
   "cell_type": "markdown",
   "metadata": {},
   "source": [
    "##### - Эксперимент 1:\n",
    "\n",
    "разобьем наш набор данных на трейн и тест, зафитим модель, предскажем y_pred, посчитаем MSE и посмотрим как отклоняется наше предсказаный таргет от правильных ответов"
   ]
  },
  {
   "cell_type": "code",
   "execution_count": 10,
   "metadata": {},
   "outputs": [],
   "source": [
    "model = LinearRegression(fit_intercept=True)"
   ]
  },
  {
   "cell_type": "code",
   "execution_count": 11,
   "metadata": {},
   "outputs": [],
   "source": [
    "X_train, X_test, y_train, y_test = train_test_split(X, y, test_size = 0.3, random_state=5779)"
   ]
  },
  {
   "cell_type": "code",
   "execution_count": 12,
   "metadata": {},
   "outputs": [
    {
     "data": {
      "text/plain": [
       "LinearRegression(copy_X=True, fit_intercept=True, n_jobs=1, normalize=False)"
      ]
     },
     "execution_count": 12,
     "metadata": {},
     "output_type": "execute_result"
    }
   ],
   "source": [
    "model.fit(X_train, y_train)"
   ]
  },
  {
   "cell_type": "code",
   "execution_count": 13,
   "metadata": {},
   "outputs": [
    {
     "name": "stdout",
     "output_type": "stream",
     "text": [
      "MSE на train: 21.1849\n",
      "MSE на test: 25.2711\n"
     ]
    }
   ],
   "source": [
    "price_pred_train = model.predict(X_train)\n",
    "price_pred_test = model.predict(X_test)\n",
    "lin_mse_TR = mean_squared_error(y_train, price_pred_train)\n",
    "lin_mse_TS = mean_squared_error(y_test, price_pred_test)\n",
    "\n",
    "\n",
    "print('MSE на train: {:.4f}'.format(lin_mse_TR))\n",
    "print('MSE на test: {:.4f}'.format(lin_mse_TS))"
   ]
  },
  {
   "cell_type": "code",
   "execution_count": 16,
   "metadata": {},
   "outputs": [
    {
     "data": {
      "text/plain": [
       "[<matplotlib.lines.Line2D at 0x111d56d68>]"
      ]
     },
     "execution_count": 16,
     "metadata": {},
     "output_type": "execute_result"
    },
    {
     "data": {
      "image/png": "[encoded data removed]",
      "text/plain": [
       "<matplotlib.figure.Figure at 0x111787860>"
      ]
     },
     "metadata": {},
     "output_type": "display_data"
    }
   ],
   "source": [
    "y_pred = model.predict(X_test)\n",
    "plt.plot(y_pred, y_test, 'go')"
   ]
  },
  {
   "cell_type": "code",
   "execution_count": 17,
   "metadata": {},
   "outputs": [
    {
     "data": {
      "text/plain": [
       "25.27107263704599"
      ]
     },
     "execution_count": 17,
     "metadata": {},
     "output_type": "execute_result"
    }
   ],
   "source": [
    "mean_squared_error(y_test, y_pred)"
   ]
  },
  {
   "cell_type": "code",
   "execution_count": 18,
   "metadata": {},
   "outputs": [
    {
     "data": {
      "text/plain": [
       "25.27107263704599"
      ]
     },
     "execution_count": 18,
     "metadata": {},
     "output_type": "execute_result"
    }
   ],
   "source": [
    "#затестим сходимость результата\n",
    "((y_test - y_pred)**2).mean()"
   ]
  },
  {
   "cell_type": "markdown",
   "metadata": {},
   "source": [
    "##### Вывод (Эксперимнет 1):\n",
    "\n",
    "`MSE` на наборе данных без выполнения кросс-валидации на тесте соствил `25.27`"
   ]
  },
  {
   "cell_type": "markdown",
   "metadata": {},
   "source": [
    "##### - Эксперимент 2:\n",
    "\n",
    "в цикле будем разбивать выборку на трейн и тест, фитить модель и считать MSE для каждой итерации (выполним kFold -20)"
   ]
  },
  {
   "cell_type": "code",
   "execution_count": 19,
   "metadata": {},
   "outputs": [
    {
     "name": "stdout",
     "output_type": "stream",
     "text": [
      "Номер эксперимента (итерации разбиения выборки): 1\n",
      "Значение MSE на трейне: 23.5176\n",
      "Значение MSE на тесте: 19.8296\n",
      "-----------------------------------------------------\n",
      "Номер эксперимента (итерации разбиения выборки): 2\n",
      "Значение MSE на трейне: 22.0657\n",
      "Значение MSE на тесте: 23.0572\n",
      "-----------------------------------------------------\n",
      "Номер эксперимента (итерации разбиения выборки): 3\n",
      "Значение MSE на трейне: 22.4197\n",
      "Значение MSE на тесте: 22.4398\n",
      "-----------------------------------------------------\n",
      "Номер эксперимента (итерации разбиения выборки): 4\n",
      "Значение MSE на трейне: 19.0737\n",
      "Значение MSE на тесте: 30.0682\n",
      "-----------------------------------------------------\n",
      "Номер эксперимента (итерации разбиения выборки): 5\n",
      "Значение MSE на трейне: 19.0715\n",
      "Значение MSE на тесте: 30.7032\n",
      "-----------------------------------------------------\n",
      "Номер эксперимента (итерации разбиения выборки): 6\n",
      "Значение MSE на трейне: 19.4836\n",
      "Значение MSE на тесте: 28.3334\n",
      "-----------------------------------------------------\n",
      "Номер эксперимента (итерации разбиения выборки): 7\n",
      "Значение MSE на трейне: 21.2426\n",
      "Значение MSE на тесте: 25.7479\n",
      "-----------------------------------------------------\n",
      "Номер эксперимента (итерации разбиения выборки): 8\n",
      "Значение MSE на трейне: 21.4527\n",
      "Значение MSE на тесте: 23.7209\n",
      "-----------------------------------------------------\n",
      "Номер эксперимента (итерации разбиения выборки): 9\n",
      "Значение MSE на трейне: 23.1762\n",
      "Значение MSE на тесте: 19.2833\n",
      "-----------------------------------------------------\n",
      "Номер эксперимента (итерации разбиения выборки): 10\n",
      "Значение MSE на трейне: 19.4566\n",
      "Значение MSE на тесте: 29.3580\n",
      "-----------------------------------------------------\n",
      "Номер эксперимента (итерации разбиения выборки): 11\n",
      "Значение MSE на трейне: 20.8219\n",
      "Значение MSE на тесте: 25.0252\n",
      "-----------------------------------------------------\n",
      "Номер эксперимента (итерации разбиения выборки): 12\n",
      "Значение MSE на трейне: 20.8165\n",
      "Значение MSE на тесте: 25.5620\n",
      "-----------------------------------------------------\n",
      "Номер эксперимента (итерации разбиения выборки): 13\n",
      "Значение MSE на трейне: 21.8963\n",
      "Значение MSE на тесте: 23.5728\n",
      "-----------------------------------------------------\n",
      "Номер эксперимента (итерации разбиения выборки): 14\n",
      "Значение MSE на трейне: 19.9147\n",
      "Значение MSE на тесте: 27.2056\n",
      "-----------------------------------------------------\n",
      "Номер эксперимента (итерации разбиения выборки): 15\n",
      "Значение MSE на трейне: 20.0890\n",
      "Значение MSE на тесте: 27.5924\n",
      "-----------------------------------------------------\n",
      "Номер эксперимента (итерации разбиения выборки): 16\n",
      "Значение MSE на трейне: 23.1434\n",
      "Значение MSE на тесте: 21.2972\n",
      "-----------------------------------------------------\n",
      "Номер эксперимента (итерации разбиения выборки): 17\n",
      "Значение MSE на трейне: 23.8087\n",
      "Значение MSE на тесте: 18.0508\n",
      "-----------------------------------------------------\n",
      "Номер эксперимента (итерации разбиения выборки): 18\n",
      "Значение MSE на трейне: 21.5136\n",
      "Значение MSE на тесте: 24.6510\n",
      "-----------------------------------------------------\n",
      "Номер эксперимента (итерации разбиения выборки): 19\n",
      "Значение MSE на трейне: 18.7930\n",
      "Значение MSE на тесте: 31.5296\n",
      "-----------------------------------------------------\n",
      "Номер эксперимента (итерации разбиения выборки): 20\n",
      "Значение MSE на трейне: 21.1861\n",
      "Значение MSE на тесте: 25.4052\n",
      "-----------------------------------------------------\n",
      "Среднее значение по 20 разбивкам CV на трейне: 21.15\n",
      "Среднее значение по 20 разбивкам CV на тесте: 25.12\n"
     ]
    }
   ],
   "source": [
    "cnt_ts = []\n",
    "cnt_tr = []\n",
    "\n",
    "for i in range(1, 21):\n",
    "    X_train, X_test, y_train, y_test = train_test_split(X, y, test_size = 0.3, random_state=i)\n",
    "    lin_reg = LinearRegression()\n",
    "    lin_reg.fit(X_train, y_train)\n",
    "    \n",
    "    train_pred = lin_reg.predict(X_train)\n",
    "    y_pred = lin_reg.predict(X_test)\n",
    "   \n",
    "    f = mean_squared_error(y_train, train_pred)\n",
    "    r = mean_squared_error(y_test, y_pred)\n",
    "    cnt_ts.append(r)\n",
    "    cnt_tr.append(f)\n",
    "\n",
    "    print('Номер эксперимента (итерации разбиения выборки): {:.0f}'.format(i))\n",
    "    print('Значение MSE на трейне: {:.4f}'.format(f)) \n",
    "    print('Значение MSE на тесте: {:.4f}'.format(r)) \n",
    "    print('-----------------------------------------------------')\n",
    "    \n",
    "\n",
    "print('Среднее значение по 20 разбивкам CV на трейне: {:.2f}'.format(np.mean(cnt_tr)))    \n",
    "print('Среднее значение по 20 разбивкам CV на тесте: {:.2f}'.format(np.mean(cnt_ts)))"
   ]
  },
  {
   "cell_type": "markdown",
   "metadata": {},
   "source": [
    "##### Вывод (Эксперимент 2):\n",
    "\n",
    "`MSE` на наборе данных с кросс-валидацией на тесте соствил `25.12`"
   ]
  },
  {
   "cell_type": "markdown",
   "metadata": {},
   "source": [
    "##### - Эксперимент 3:\n",
    "\n",
    "выполним кросвалидацию с с помощью готовой библиотеки cross_val_predict (выполним kFold -20)"
   ]
  },
  {
   "cell_type": "code",
   "execution_count": 20,
   "metadata": {},
   "outputs": [
    {
     "name": "stdout",
     "output_type": "stream",
     "text": [
      "Среднее значение CV на трейне: 22.6640\n",
      "Среднее значение CV на тесте: 22.0692\n"
     ]
    }
   ],
   "source": [
    "print('Среднее значение CV на трейне: {:.4f}'.format(np.mean(cross_val_predict(lin_reg, X_train, y_train, cv=20))))\n",
    "print('Среднее значение CV на тесте: {:.4f}'.format(np.mean(cross_val_predict(lin_reg, X_test, y_test, cv=20))))"
   ]
  },
  {
   "cell_type": "markdown",
   "metadata": {},
   "source": [
    "Вывод (Эксперимент 3):\n",
    "\n",
    "`MSE` на наборе данных с кросс-валидацией на тесте соствил `22.06`"
   ]
  },
  {
   "cell_type": "markdown",
   "metadata": {},
   "source": [
    "### RandomForestRegressor ......."
   ]
  },
  {
   "cell_type": "code",
   "execution_count": 21,
   "metadata": {},
   "outputs": [],
   "source": [
    "from sklearn.ensemble import RandomForestRegressor"
   ]
  },
  {
   "cell_type": "markdown",
   "metadata": {},
   "source": [
    "- посмотрим на важность признаков и на результат на тесте"
   ]
  },
  {
   "cell_type": "code",
   "execution_count": 22,
   "metadata": {},
   "outputs": [
    {
     "name": "stdout",
     "output_type": "stream",
     "text": [
      "[3.35695674e-02 1.65220112e-03 6.69702998e-03 5.08722702e-04\n",
      " 1.92806824e-02 6.02260921e-01 1.06264630e-02 4.64371688e-02\n",
      " 5.31452569e-03 1.34602747e-02 1.48583945e-02 1.24408993e-02\n",
      " 2.32893149e-01]\n",
      "------------------------------------------------------------------------------\n",
      "Index(['CRIM', 'ZN', 'INDUS', 'CHAS', 'NOX', 'RM', 'AGE', 'DIS', 'RAD', 'TAX',\n",
      "       'PTRATIO', 'B', 'LSTAT'],\n",
      "      dtype='object')\n",
      "[38.086]\n",
      "------------------------------------------------------------------------------\n",
      "22.934361842105265\n"
     ]
    }
   ],
   "source": [
    "regr = RandomForestRegressor(max_depth=None, criterion='mse', random_state=0, n_estimators=100)\n",
    "regr.fit(X_train, y_train)\n",
    "\n",
    "\n",
    "print(regr.feature_importances_)\n",
    "\n",
    "print('------------------------------------------------------------------------------')\n",
    "print(df.columns)\n",
    "print(regr.predict([[0., 0.,0.,0.,0.00111388, 0.73712938,0.,0.,0.,0.,0.,0.,0.26175673]]))\n",
    "\n",
    "print('------------------------------------------------------------------------------')\n",
    "print(np.mean(regr.predict(X_test)))"
   ]
  },
  {
   "cell_type": "markdown",
   "metadata": {},
   "source": [
    "##### Подберем оптимальное количество деревьев в лесу (сделаю это вручную)"
   ]
  },
  {
   "cell_type": "code",
   "execution_count": 23,
   "metadata": {},
   "outputs": [],
   "source": [
    "cnt_tr = []\n",
    "cnt_w = []\n",
    "\n",
    "for w in range(1, 200, 10):\n",
    "    \n",
    "    regr = RandomForestRegressor(max_depth=None, criterion='mse', random_state=0, n_estimators=w)\n",
    "    regr.fit(X_train, y_train)\n",
    "    \n",
    "    h = np.mean(regr.predict(X_test))\n",
    "    cnt_tr.append(h)\n",
    "    cnt_w.append(w)\n"
   ]
  },
  {
   "cell_type": "markdown",
   "metadata": {},
   "source": [
    "- посмотрим на зависимость MSE от кол-ва деревьев "
   ]
  },
  {
   "cell_type": "code",
   "execution_count": 24,
   "metadata": {},
   "outputs": [
    {
     "data": {
      "text/plain": [
       "Text(0,0.5,'MSE value')"
      ]
     },
     "execution_count": 24,
     "metadata": {},
     "output_type": "execute_result"
    },
    {
     "data": {
      "image/png": "[encoded data removed]",
      "text/plain": [
       "<matplotlib.figure.Figure at 0x111fbe4e0>"
      ]
     },
     "metadata": {},
     "output_type": "display_data"
    }
   ],
   "source": [
    "plt.plot(cnt_w, cnt_tr, 'b')\n",
    "plt.xlabel('n_estimators value')\n",
    "plt.ylabel('MSE value')"
   ]
  },
  {
   "cell_type": "code",
   "execution_count": 25,
   "metadata": {},
   "outputs": [],
   "source": [
    "cnt_train = []\n",
    "cnt_t = []\n",
    "\n",
    "for t in range(1, 20, 1):\n",
    "    \n",
    "    regr = RandomForestRegressor(max_depth=t, criterion='mse', random_state=0, n_estimators=31)\n",
    "    regr.fit(X_train, y_train)\n",
    "    \n",
    "    h = np.mean(regr.predict(X_test))\n",
    "    cnt_train.append(h)\n",
    "    cnt_t.append(t)\n",
    "    "
   ]
  },
  {
   "cell_type": "code",
   "execution_count": 26,
   "metadata": {},
   "outputs": [
    {
     "data": {
      "text/plain": [
       "Text(0,0.5,'MSE value')"
      ]
     },
     "execution_count": 26,
     "metadata": {},
     "output_type": "execute_result"
    },
    {
     "data": {
      "image/png": "[encoded data removed]",
      "text/plain": [
       "<matplotlib.figure.Figure at 0x111fc0748>"
      ]
     },
     "metadata": {},
     "output_type": "display_data"
    }
   ],
   "source": [
    "plt.plot(cnt_t, cnt_train, 'b')\n",
    "plt.xlabel('max_depth value')\n",
    "plt.ylabel('MSE value')"
   ]
  },
  {
   "cell_type": "code",
   "execution_count": 27,
   "metadata": {},
   "outputs": [],
   "source": [
    "regr_mode = RandomForestRegressor(max_depth=12, criterion='mse', random_state=0, n_estimators=31)"
   ]
  },
  {
   "cell_type": "code",
   "execution_count": 28,
   "metadata": {},
   "outputs": [
    {
     "data": {
      "text/plain": [
       "RandomForestRegressor(bootstrap=True, criterion='mse', max_depth=12,\n",
       "           max_features='auto', max_leaf_nodes=None,\n",
       "           min_impurity_decrease=0.0, min_impurity_split=None,\n",
       "           min_samples_leaf=1, min_samples_split=2,\n",
       "           min_weight_fraction_leaf=0.0, n_estimators=31, n_jobs=1,\n",
       "           oob_score=False, random_state=0, verbose=0, warm_start=False)"
      ]
     },
     "execution_count": 28,
     "metadata": {},
     "output_type": "execute_result"
    }
   ],
   "source": [
    "regr_mode.fit(X_train, y_train)"
   ]
  },
  {
   "cell_type": "code",
   "execution_count": 29,
   "metadata": {},
   "outputs": [
    {
     "name": "stdout",
     "output_type": "stream",
     "text": [
      "Значение MSE на тесте при оптимальных параметрах модели: 22.6350\n"
     ]
    }
   ],
   "source": [
    "print('Значение MSE на тесте при оптимальных параметрах модели: {:.4f}'.format(np.mean(regr_mode.predict(X_test))))"
   ]
  },
  {
   "cell_type": "markdown",
   "metadata": {},
   "source": [
    "##### Вывод :\n",
    "\n",
    "Максимальное значение `MSE` на тестовой выборке составило `22.63`, данное значение полученно на оптимальных параметрах, если использовать параметры по дефолту, то в таком случае значение mse получается немного выше `22.93`"
   ]
  },
  {
   "cell_type": "code",
   "execution_count": null,
   "metadata": {},
   "outputs": [],
   "source": []
  },
  {
   "cell_type": "code",
   "execution_count": null,
   "metadata": {},
   "outputs": [],
   "source": []
  }
 ],
 "metadata": {
  "kernelspec": {
   "display_name": "Python 3",
   "language": "python",
   "name": "python3"
  },
  "language_info": {
   "codemirror_mode": {
    "name": "ipython",
    "version": 3
   },
   "file_extension": ".py",
   "mimetype": "text/x-python",
   "name": "python",
   "nbconvert_exporter": "python",
   "pygments_lexer": "ipython3",
   "version": "3.6.4"
  }
 },
 "nbformat": 4,
 "nbformat_minor": 2
}
